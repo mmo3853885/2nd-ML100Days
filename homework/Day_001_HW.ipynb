1:�ФW Kaggle, �b Competitions �� Dataset ����@���v�ɩθ�ƨüg�U�G

  Ans:�Q�ηs�D�w���Ѳ����աC
      https://www.kaggle.com/c/two-sigma-financial-news

2:�A�諸�o�ո�Ƭ��󭫭n?

  Ans:�Ѳ��֦������I�����S���S�ʡA�Y��ǽT�Q�ηs�D�w���A�h��W�ױ����I�A���ɧ����S�v�C

3:��Ʊq��Ө�? 
  Ans: 1:�����ƾ�(�]�t���ĥ����H���A�p�}�L���A���L���A����q�A�p��^��):Intrinio���ѡC
       2:�s�D�ƾ�:Thomson Reuters�C

4:�`���ӨӪ���ƫ��A����

  Ans:time�Bfloat�Bint

5:�o�ո�ƷQ�ѨM�����D�p�����

  Ans:�Q�ηs�D�ƾڻP�����ƾڡA�w�����ӳ�i�Ѳ����`��L�աC