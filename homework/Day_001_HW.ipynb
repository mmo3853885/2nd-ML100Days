{
 "cells": [
  {
   "cell_type": "markdown",
   "metadata": {},
   "source": [
    "作業一:\n",
    "1:請上 Kaggle, 在 Competitions 或 Dataset 中找一組競賽或資料並寫下：\n",
    "\n",
    "  Ans:利用新聞預測股票走勢。\n",
    "      https://www.kaggle.com/c/two-sigma-financial-news\n",
    "\n",
    "2:你選的這組資料為何重要?\n",
    "\n",
    "  Ans:股票擁有高風險高報酬之特性，若能準確利用新聞預測，則能規避掉風險，提升投資報酬率。\n",
    "\n",
    "3:資料從何而來? \n",
    "  Ans: 1:市場數據(包含金融市場信息，如開盤價，收盤價，交易量，計算回報):Intrinio提供。\n",
    "       2:新聞數據:Thomson Reuters。\n",
    "\n",
    "4:蒐集而來的資料型態為何\n",
    "\n",
    "  Ans:time、float、int\n",
    "\n",
    "5:這組資料想解決的問題如何評估\n",
    "\n",
    "  Ans:利用新聞數據與市場數據，預測未來單張股票或總體盤勢。\n",
    "  \n",
    "作業二:\n",
    "\n",
    "想像你經營一個自由載客車隊，你希望能透過數據分析以提升業績，請你思考並描述你如何規劃整體的分析/解決方案：\n",
    "\n",
    "1. 核心問題為何 (tips：如何定義 「提升業績 & 你的假設」)\n",
    "   \n",
    "    Ans:提升業績。上述業績，假設為每輛車，每月之業績提升量。\n",
    "\n",
    "2. 資料從何而來 (tips：哪些資料可能會對你想問的問題產生影響 & 資料如何蒐集)\n",
    "    \n",
    "    Ans:產生影響之資料:天氣、空窗無載客等待期間、載客地點、節慶節日、車輛品牌/新舊、司機形象。\n",
    "        如何蒐集:天氣-氣象局網站\n",
    "                空窗無載客等待期間-計價表之紀錄\n",
    "                載客地點-可從車內導航系統紀錄\n",
    "                節慶節日-日曆\n",
    "                車輛品牌/新舊-司機自行登記\n",
    "                司機形象-較沒辦法量化，改思考建立客戶對司機的服務評分機制\n",
    "\n",
    "3. 蒐集而來的資料型態為何\n",
    "\n",
    "    Ans:time、int、float、text\n",
    "    \n",
    "4. 你要回答的問題，其如何評估 (tips：你的假設如何驗證)\n",
    "\n",
    "    Ans:比較司機獲得客戶評價與其業績之正相關程度\n",
    "        觀察不同區域時間區間/天氣變化/節慶之載客業績\n"
   ]
  }
 ],
 "metadata": {
  "kernelspec": {
   "display_name": "Python 3",
   "language": "python",
   "name": "python3"
  },
  "language_info": {
   "codemirror_mode": {
    "name": "ipython",
    "version": 3
   },
   "file_extension": ".py",
   "mimetype": "text/x-python",
   "name": "python",
   "nbconvert_exporter": "python",
   "pygments_lexer": "ipython3",
   "version": "3.7.3"
  }
 },
 "nbformat": 4,
 "nbformat_minor": 2
}
