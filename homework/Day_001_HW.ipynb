{
 "cells": [
  {
   "cell_type": "code",
   "execution_count": null,
   "metadata": {},
   "outputs": [],
   "source": [
    "1:請上 Kaggle, 在 Competitions 或 Dataset 中找一組競賽或資料並寫下：\n",
    "\n",
    "  Ans:利用新聞預測股票走勢。\n",
    "      https://www.kaggle.com/c/two-sigma-financial-news\n",
    "\n",
    "2:你選的這組資料為何重要?\n",
    "\n",
    "  Ans:股票擁有高風險高報酬之特性，若能準確利用新聞預測，則能規避掉風險，提升投資報酬率。\n",
    "\n",
    "3:資料從何而來? \n",
    "  Ans: 1:市場數據(包含金融市場信息，如開盤價，收盤價，交易量，計算回報):Intrinio提供。\n",
    "       2:新聞數據:Thomson Reuters。\n",
    "\n",
    "4:蒐集而來的資料型態為何\n",
    "\n",
    "  Ans:time、float、int\n",
    "\n",
    "5:這組資料想解決的問題如何評估\n",
    "\n",
    "  Ans:利用新聞數據與市場數據，預測未來單張股票或總體盤勢。"
   ]
  }
 ],
 "metadata": {
  "kernelspec": {
   "display_name": "Python 3",
   "language": "python",
   "name": "python3"
  },
  "language_info": {
   "codemirror_mode": {
    "name": "ipython",
    "version": 3
   },
   "file_extension": ".py",
   "mimetype": "text/x-python",
   "name": "python",
   "nbconvert_exporter": "python",
   "pygments_lexer": "ipython3",
   "version": "3.7.3"
  }
 },
 "nbformat": 4,
 "nbformat_minor": 2
}
